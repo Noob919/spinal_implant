{
  "nbformat": 4,
  "nbformat_minor": 0,
  "metadata": {
    "colab": {
      "name": "Baseline_model.ipynb",
      "provenance": [],
      "collapsed_sections": []
    },
    "kernelspec": {
      "name": "python3",
      "display_name": "Python 3"
    },
    "language_info": {
      "name": "python"
    },
    "accelerator": "GPU"
  },
  "cells": [
    {
      "cell_type": "code",
      "source": [
        "from google.colab import drive\n",
        "drive.mount('/content/drive')"
      ],
      "metadata": {
        "colab": {
          "base_uri": "https://localhost:8080/"
        },
        "id": "RyaeAzionQBo",
        "outputId": "d039c256-abc9-4279-f621-1b9cfc6f98a5"
      },
      "execution_count": 1,
      "outputs": [
        {
          "output_type": "stream",
          "name": "stdout",
          "text": [
            "Drive already mounted at /content/drive; to attempt to forcibly remount, call drive.mount(\"/content/drive\", force_remount=True).\n"
          ]
        }
      ]
    },
    {
      "cell_type": "code",
      "source": [
        "import PIL\n",
        "import tensorflow as tf\n",
        "from tensorflow.keras import layers\n",
        "from tensorflow.keras.layers import Dense,Flatten\n",
        "from tensorflow.keras.models import Sequential\n",
        "from tensorflow.keras.optimizers import Adam"
      ],
      "metadata": {
        "id": "07JRUEoqrSHs"
      },
      "execution_count": 2,
      "outputs": []
    },
    {
      "cell_type": "code",
      "source": [
        "import numpy as np\n",
        "import pandas as pd\n",
        "import matplotlib.pyplot as plt\n",
        "from keras.preprocessing import image\n",
        "from keras.preprocessing.image import img_to_array\n",
        "from tensorflow.keras.applications.resnet50 import preprocess_input\n",
        "from tensorflow.keras.applications.resnet50 import ResNet50, decode_predictions  "
      ],
      "metadata": {
        "id": "D7GES6sbpfzQ"
      },
      "execution_count": 3,
      "outputs": []
    },
    {
      "cell_type": "code",
      "source": [
        "data_dir_test = \"/content/drive/MyDrive/train\""
      ],
      "metadata": {
        "id": "QrFUvy0CqiNA"
      },
      "execution_count": 4,
      "outputs": []
    },
    {
      "cell_type": "code",
      "source": [
        "img_height,img_width=512,512\n",
        "batch_size=8\n",
        "train_ds = tf.keras.preprocessing.image_dataset_from_directory(\n",
        "  data_dir_test,\n",
        "  seed=42,\n",
        "  color_mode = 'grayscale',\n",
        "  image_size=(img_height, img_width),\n",
        "  batch_size=batch_size)"
      ],
      "metadata": {
        "colab": {
          "base_uri": "https://localhost:8080/"
        },
        "id": "YwCfZ4MZwBW4",
        "outputId": "76127dc9-7453-4811-a4e0-4839de34e5a5"
      },
      "execution_count": 5,
      "outputs": [
        {
          "output_type": "stream",
          "name": "stdout",
          "text": [
            "Found 542 files belonging to 6 classes.\n"
          ]
        }
      ]
    },
    {
      "cell_type": "code",
      "source": [
        "data_dir_val = \"/content/drive/MyDrive/test\""
      ],
      "metadata": {
        "id": "1sfoWY6T7_-8"
      },
      "execution_count": 6,
      "outputs": []
    },
    {
      "cell_type": "code",
      "source": [
        "val_ds = tf.keras.preprocessing.image_dataset_from_directory(\n",
        "  data_dir_val,\n",
        "  seed=42,\n",
        "  color_mode = 'grayscale',\n",
        "  image_size=(img_height, img_width),\n",
        "  batch_size=batch_size)"
      ],
      "metadata": {
        "colab": {
          "base_uri": "https://localhost:8080/"
        },
        "id": "iy2R1wVp8VJH",
        "outputId": "972f1c60-46ba-4d0b-9c83-281e33b1292e"
      },
      "execution_count": 7,
      "outputs": [
        {
          "output_type": "stream",
          "name": "stdout",
          "text": [
            "Found 110 files belonging to 6 classes.\n"
          ]
        }
      ]
    },
    {
      "cell_type": "code",
      "source": [
        "resnet_model = Sequential()\n",
        "\n",
        "pretrained_model= tf.keras.applications.ResNet50(include_top=False,\n",
        "                   input_shape=(512,512,1),\n",
        "                   pooling='max',classes=6,\n",
        "                   weights=None)\n",
        "for layer in pretrained_model.layers:\n",
        "        layer.trainable=False\n",
        "\n",
        "resnet_model.add(pretrained_model)"
      ],
      "metadata": {
        "id": "egEiYPX1zhde"
      },
      "execution_count": 8,
      "outputs": []
    },
    {
      "cell_type": "code",
      "source": [
        "resnet_model.add(Flatten())\n",
        "resnet_model.add(Dense(512, activation='relu'))\n",
        "resnet_model.add(Dense(256, activation='relu'))\n",
        "resnet_model.add(Dense(6, activation='softmax'))"
      ],
      "metadata": {
        "id": "5S3JTy2Z9jYE"
      },
      "execution_count": 9,
      "outputs": []
    },
    {
      "cell_type": "code",
      "source": [
        "resnet_model.summary()"
      ],
      "metadata": {
        "colab": {
          "base_uri": "https://localhost:8080/"
        },
        "id": "mTUsGRIH-_Y3",
        "outputId": "b7e4ce16-f33f-44d8-c3a2-4e1c0ec7f55f"
      },
      "execution_count": 10,
      "outputs": [
        {
          "output_type": "stream",
          "name": "stdout",
          "text": [
            "Model: \"sequential\"\n",
            "_________________________________________________________________\n",
            " Layer (type)                Output Shape              Param #   \n",
            "=================================================================\n",
            " resnet50 (Functional)       (None, 2048)              23581440  \n",
            "                                                                 \n",
            " flatten (Flatten)           (None, 2048)              0         \n",
            "                                                                 \n",
            " dense (Dense)               (None, 512)               1049088   \n",
            "                                                                 \n",
            " dense_1 (Dense)             (None, 256)               131328    \n",
            "                                                                 \n",
            " dense_2 (Dense)             (None, 6)                 1542      \n",
            "                                                                 \n",
            "=================================================================\n",
            "Total params: 24,763,398\n",
            "Trainable params: 1,181,958\n",
            "Non-trainable params: 23,581,440\n",
            "_________________________________________________________________\n"
          ]
        }
      ]
    },
    {
      "cell_type": "code",
      "source": [
        "resnet_model.compile(optimizer=Adam(lr=0.001),loss='sparse_categorical_crossentropy',metrics=['accuracy'])"
      ],
      "metadata": {
        "colab": {
          "base_uri": "https://localhost:8080/"
        },
        "id": "rwMvN3cN_KLM",
        "outputId": "6ef948f5-243e-45f2-8dcd-5acdb7df3da1"
      },
      "execution_count": 11,
      "outputs": [
        {
          "output_type": "stream",
          "name": "stderr",
          "text": [
            "/usr/local/lib/python3.7/dist-packages/keras/optimizer_v2/adam.py:105: UserWarning: The `lr` argument is deprecated, use `learning_rate` instead.\n",
            "  super(Adam, self).__init__(name, **kwargs)\n"
          ]
        }
      ]
    },
    {
      "cell_type": "code",
      "source": [
        "history = resnet_model.fit(train_ds, validation_data = val_ds, epochs=25)"
      ],
      "metadata": {
        "colab": {
          "base_uri": "https://localhost:8080/"
        },
        "id": "2IL4N__g_rUo",
        "outputId": "88616255-bee2-4287-ac9e-0b31a9625fb5"
      },
      "execution_count": 17,
      "outputs": [
        {
          "output_type": "stream",
          "name": "stdout",
          "text": [
            "Epoch 1/25\n",
            "68/68 [==============================] - 11s 153ms/step - loss: 1.7251 - accuracy: 0.2749 - val_loss: 1.6878 - val_accuracy: 0.3182\n",
            "Epoch 2/25\n",
            "68/68 [==============================] - 10s 151ms/step - loss: 1.7251 - accuracy: 0.2749 - val_loss: 1.6886 - val_accuracy: 0.3182\n",
            "Epoch 3/25\n",
            "68/68 [==============================] - 10s 152ms/step - loss: 1.7253 - accuracy: 0.2749 - val_loss: 1.6872 - val_accuracy: 0.3182\n",
            "Epoch 4/25\n",
            "68/68 [==============================] - 10s 151ms/step - loss: 1.7255 - accuracy: 0.2749 - val_loss: 1.6886 - val_accuracy: 0.3182\n",
            "Epoch 5/25\n",
            "68/68 [==============================] - 10s 150ms/step - loss: 1.7255 - accuracy: 0.2749 - val_loss: 1.6883 - val_accuracy: 0.3182\n",
            "Epoch 6/25\n",
            "68/68 [==============================] - 10s 149ms/step - loss: 1.7252 - accuracy: 0.2749 - val_loss: 1.6886 - val_accuracy: 0.3182\n",
            "Epoch 7/25\n",
            "68/68 [==============================] - 10s 149ms/step - loss: 1.7258 - accuracy: 0.2749 - val_loss: 1.6877 - val_accuracy: 0.3182\n",
            "Epoch 8/25\n",
            "68/68 [==============================] - 10s 149ms/step - loss: 1.7250 - accuracy: 0.2749 - val_loss: 1.6882 - val_accuracy: 0.3182\n",
            "Epoch 9/25\n",
            "68/68 [==============================] - 10s 148ms/step - loss: 1.7255 - accuracy: 0.2749 - val_loss: 1.6879 - val_accuracy: 0.3182\n",
            "Epoch 10/25\n",
            "68/68 [==============================] - 10s 151ms/step - loss: 1.7256 - accuracy: 0.2749 - val_loss: 1.6886 - val_accuracy: 0.3182\n",
            "Epoch 11/25\n",
            "68/68 [==============================] - 10s 151ms/step - loss: 1.7255 - accuracy: 0.2749 - val_loss: 1.6886 - val_accuracy: 0.3182\n",
            "Epoch 12/25\n",
            "68/68 [==============================] - 10s 151ms/step - loss: 1.7259 - accuracy: 0.2749 - val_loss: 1.6879 - val_accuracy: 0.3182\n",
            "Epoch 13/25\n",
            "68/68 [==============================] - 10s 151ms/step - loss: 1.7258 - accuracy: 0.2749 - val_loss: 1.6875 - val_accuracy: 0.3182\n",
            "Epoch 14/25\n",
            "68/68 [==============================] - 10s 150ms/step - loss: 1.7260 - accuracy: 0.2749 - val_loss: 1.6889 - val_accuracy: 0.3182\n",
            "Epoch 15/25\n",
            "68/68 [==============================] - 10s 149ms/step - loss: 1.7262 - accuracy: 0.2749 - val_loss: 1.6886 - val_accuracy: 0.3182\n",
            "Epoch 16/25\n",
            "68/68 [==============================] - 10s 148ms/step - loss: 1.7256 - accuracy: 0.2749 - val_loss: 1.6876 - val_accuracy: 0.3182\n",
            "Epoch 17/25\n",
            "68/68 [==============================] - 10s 150ms/step - loss: 1.7257 - accuracy: 0.2749 - val_loss: 1.6873 - val_accuracy: 0.3182\n",
            "Epoch 18/25\n",
            "68/68 [==============================] - 10s 151ms/step - loss: 1.7259 - accuracy: 0.2749 - val_loss: 1.6881 - val_accuracy: 0.3182\n",
            "Epoch 19/25\n",
            "68/68 [==============================] - 10s 150ms/step - loss: 1.7255 - accuracy: 0.2749 - val_loss: 1.6890 - val_accuracy: 0.3182\n",
            "Epoch 20/25\n",
            "68/68 [==============================] - 10s 150ms/step - loss: 1.7258 - accuracy: 0.2749 - val_loss: 1.6883 - val_accuracy: 0.3182\n",
            "Epoch 21/25\n",
            "68/68 [==============================] - 10s 151ms/step - loss: 1.7255 - accuracy: 0.2749 - val_loss: 1.6882 - val_accuracy: 0.3182\n",
            "Epoch 22/25\n",
            "68/68 [==============================] - 10s 149ms/step - loss: 1.7257 - accuracy: 0.2749 - val_loss: 1.6887 - val_accuracy: 0.3182\n",
            "Epoch 23/25\n",
            "68/68 [==============================] - 10s 150ms/step - loss: 1.7263 - accuracy: 0.2749 - val_loss: 1.6881 - val_accuracy: 0.3182\n",
            "Epoch 24/25\n",
            "68/68 [==============================] - 10s 149ms/step - loss: 1.7264 - accuracy: 0.2749 - val_loss: 1.6888 - val_accuracy: 0.3182\n",
            "Epoch 25/25\n",
            "68/68 [==============================] - 10s 150ms/step - loss: 1.7255 - accuracy: 0.2749 - val_loss: 1.6887 - val_accuracy: 0.3182\n"
          ]
        }
      ]
    },
    {
      "cell_type": "code",
      "source": [
        "values = pd.DataFrame(resnet_model.history.history)"
      ],
      "metadata": {
        "id": "D76TQseTDL-9"
      },
      "execution_count": 19,
      "outputs": []
    },
    {
      "cell_type": "code",
      "source": [
        "fig1 = plt.gcf()\n",
        "plt.plot(values['accuracy'])\n",
        "plt.plot(values['val_accuracy'])\n",
        "plt.axis(ymin=0.4,ymax=1)\n",
        "plt.grid()\n",
        "plt.ylim(0,1)\n",
        "plt.title('Model Accuracy')\n",
        "plt.ylabel('Accuracy')\n",
        "plt.xlabel('Epochs')\n",
        "plt.legend(['train', 'validation'])\n",
        "plt.show()"
      ],
      "metadata": {
        "colab": {
          "base_uri": "https://localhost:8080/",
          "height": 295
        },
        "id": "1DZHZOM5_Cu7",
        "outputId": "6e259e62-c572-4834-a69c-625be3550a1d"
      },
      "execution_count": 20,
      "outputs": [
        {
          "output_type": "display_data",
          "data": {
            "image/png": "[encoded data removed]",
            "text/plain": [
              "<Figure size 432x288 with 1 Axes>"
            ]
          },
          "metadata": {
            "needs_background": "light"
          }
        }
      ]
    },
    {
      "cell_type": "code",
      "source": [
        "fig1 = plt.gcf()\n",
        "plt.plot(values['loss'])\n",
        "plt.plot(values['val_loss'])\n",
        "plt.axis(ymin=0.4,ymax=1)\n",
        "plt.grid()\n",
        "plt.ylim(0,3)\n",
        "plt.title('Model Loss')\n",
        "plt.ylabel('Loss')\n",
        "plt.xlabel('Epochs')\n",
        "plt.legend(['train', 'validation'])\n",
        "plt.show()"
      ],
      "metadata": {
        "colab": {
          "base_uri": "https://localhost:8080/",
          "height": 295
        },
        "id": "9gO2D97mC3WS",
        "outputId": "9cacd573-90c3-471b-f283-3f5a7e3564c1"
      },
      "execution_count": 21,
      "outputs": [
        {
          "output_type": "display_data",
          "data": {
            "image/png": "[encoded data removed]",
            "text/plain": [
              "<Figure size 432x288 with 1 Axes>"
            ]
          },
          "metadata": {
            "needs_background": "light"
          }
        }
      ]
    },
    {
      "cell_type": "code",
      "source": [
        ""
      ],
      "metadata": {
        "id": "4EtBR88HE5Su"
      },
      "execution_count": 21,
      "outputs": []
    }
  ]
}